{
 "cells": [
  {
   "cell_type": "code",
   "execution_count": null,
   "id": "c9def730",
   "metadata": {},
   "outputs": [],
   "source": [
    "import pandas as pd\n",
    "from sklearn.preprocessing import StandardScaler\n",
    "\n",
    "# Cargar el conjunto de datos\n",
    "data = pd.read_csv(r\"C:\\Users\\JuanHernandez\\OneDrive - Uniespecies, S.A\\Escritorio\\BakUp\\Extraccion\\Detalledeventas.csv\")\n",
    "\n",
    "# Limpiar espacios en blanco al principio y al final de las cadenas\n",
    "data['Cliente'] = data['Cliente'].str.strip()\n",
    "data['Territorio'] = data['Territorio'].str.strip()\n",
    "data['Descripcion articulo'] = data['Descripcion articulo'].str.strip()\n",
    "\n",
    "# Convertir columnas numéricas al tipo adecuado\n",
    "data['Total cantidad'] = pd.to_numeric(data['Total cantidad'], errors='coerce')\n",
    "data['Total venta'] = pd.to_numeric(data['Total venta'], errors='coerce')\n",
    "data['Total venta USD'] = pd.to_numeric(data['Total venta USD'], errors='coerce')\n",
    "data['Costo salida'] = pd.to_numeric(data['Costo salida'], errors='coerce')\n",
    "data['Costo total salida'] = pd.to_numeric(data['Costo total salida'], errors='coerce')\n",
    "data['Utilidad bruta'] = pd.to_numeric(data['Utilidad bruta'], errors='coerce')\n",
    "data['% Utilidad bruta'] = pd.to_numeric(data['% Utilidad bruta'], errors='coerce')\n",
    "\n",
    "# Seleccionar solo las columnas numéricas para la estandarización\n",
    "numerical_columns = data.columns.difference(['Fecha venta', 'Documento', 'Tipo', 'Cliente', 'Territorio', 'Código articulo', 'Descripcion articulo', 'GradoCalidad'])\n",
    "data[numerical_columns] = standardize_data(data[numerical_columns])\n",
    "\n",
    "# Guardar los datos limpios\n",
    "data.to_csv(\"datos_limpios.csv\", index=False)\n"
   ]
  }
 ],
 "metadata": {
  "kernelspec": {
   "display_name": "Python 3 (ipykernel)",
   "language": "python",
   "name": "python3"
  },
  "language_info": {
   "codemirror_mode": {
    "name": "ipython",
    "version": 3
   },
   "file_extension": ".py",
   "mimetype": "text/x-python",
   "name": "python",
   "nbconvert_exporter": "python",
   "pygments_lexer": "ipython3",
   "version": "3.9.13"
  }
 },
 "nbformat": 4,
 "nbformat_minor": 5
}
